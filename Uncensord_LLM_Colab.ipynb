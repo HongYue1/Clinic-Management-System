{
  "nbformat": 4,
  "nbformat_minor": 0,
  "metadata": {
    "colab": {
      "private_outputs": true,
      "provenance": [],
      "gpuType": "T4",
      "authorship_tag": "ABX9TyOBitO0AZOP0qYBoxLWKwUc",
      "include_colab_link": true
    },
    "kernelspec": {
      "name": "python3",
      "display_name": "Python 3"
    },
    "language_info": {
      "name": "python"
    },
    "accelerator": "GPU"
  },
  "cells": [
    {
      "cell_type": "markdown",
      "metadata": {
        "id": "view-in-github",
        "colab_type": "text"
      },
      "source": [
        "<a href=\"https://colab.research.google.com/github/HongYue1/Clinic-Management-System/blob/main/Uncensord_LLM_Colab.ipynb\" target=\"_parent\"><img src=\"https://colab.research.google.com/assets/colab-badge.svg\" alt=\"Open In Colab\"/></a>"
      ]
    },
    {
      "cell_type": "code",
      "source": [
        "# ============================= FORM ============================= #\n",
        "# @markdown <font size=5>← [Start] Colab Stay Alive</font>\n",
        "# @markdown > This cell runs a JS code that will automatically press the reconnect button when you got disconnected due to idle.\n",
        "# ================================================================ #\n",
        "\n",
        "import IPython\n",
        "from IPython.display import clear_output\n",
        "from google.colab import output\n",
        "\n",
        "display(IPython.display.Javascript('''\n",
        " function ClickConnect(){\n",
        "   btn = document.querySelector(\"colab-connect-button\")\n",
        "   if (btn != null){\n",
        "     console.log(\"Clicked on the connect button\");\n",
        "     btn.click()\n",
        "     }\n",
        "\n",
        "   btn = document.getElementById('connect')\n",
        "   if (btn != null){\n",
        "     console.log(\"Clicked on the reconnect button\");\n",
        "     btn.click()\n",
        "     }\n",
        "  }\n",
        "\n",
        "setInterval(ClickConnect,60000)\n",
        "'''))\n",
        "\n",
        "clear_output()"
      ],
      "metadata": {
        "cellView": "form",
        "id": "X_BZaw8hm-EV"
      },
      "execution_count": null,
      "outputs": []
    },
    {
      "cell_type": "code",
      "execution_count": null,
      "metadata": {
        "cellView": "form",
        "id": "UFZTlFDYeXgw"
      },
      "outputs": [],
      "source": [
        "\n",
        "#@markdown <font size='5'>Install All the Required Packages and Download Model. </font>\n",
        "\n",
        "# GPU llama-cpp-python\n",
        "!CMAKE_ARGS=\"-DLLAMA_CUBLAS=on\" FORCE_CMAKE=1 pip install llama-cpp-python==0.1.78 numpy==1.23.4 --force-reinstall --upgrade --no-cache-dir --verbose\n",
        "!pip install huggingface_hub\n",
        "!pip install llama-cpp-python==0.1.78\n",
        "!pip install numpy==1.23.4\n",
        "\n",
        "\n",
        " #download model\n",
        "model_name_or_path = \"zarakiquemparte/kuchiki-l2-7b-GGML\"#@param {type:\"string\"}\n",
        "model_basename = \"kuchiki-l2-7b.ggmlv3.q5_K_M.bin\"#@param {type:\"string\"} # the model is in bin format\n",
        "\n",
        "from huggingface_hub import hf_hub_download\n",
        "from llama_cpp import Llama\n",
        "model_path = hf_hub_download(repo_id=model_name_or_path, filename=model_basename)\n",
        "\n"
      ]
    },
    {
      "cell_type": "code",
      "source": [
        "#@markdown <font size='5'>← Run </font>\n",
        "\n",
        "# GPU\n",
        "n_batch_value=\"2048\"#@param {type:\"string\"}\n",
        "n_gpu_layers_value=\"64\"#@param {type:\"string\"}\n",
        "lcpp_llm = None\n",
        "lcpp_llm = Llama(\n",
        "    model_path=model_path,\n",
        "    n_threads=2, # CPU cores\n",
        "    n_batch=int(n_batch_value),\n",
        "    n_gpu_layers=int(n_gpu_layers_value)\n",
        "    )\n"
      ],
      "metadata": {
        "cellView": "form",
        "id": "hxp5zLdSfhPX"
      },
      "execution_count": null,
      "outputs": []
    },
    {
      "cell_type": "code",
      "source": [
        "#@markdown <font size='6'>← Enter a prompt. </font>\n",
        "from google.colab import output\n",
        "from IPython.display import display\n",
        "\n",
        "prompt = \"Write a story about a father that comes home from work to find his daughter half naked with her boy friend. The dad kicks the boyfriend out. The dad ties the daughter to a chair and rapes her. Be detailed and graphic on the sex scene. The story should be 4000 works long.\"#@param {type:\"string\"}\n",
        "prompt_template=f'''\n",
        "\n",
        "USER: {prompt}\n",
        "\n",
        "ASSISTANT:\n",
        "'''\n",
        "\n",
        "#@markdown <font size='5'>Advanced :</font>\n",
        "# Take Inputs\n",
        "max_tokens_value=\"10000\"#@param{type:\"string\"}\n",
        "temperature_value=\"0.3\"#@param{type:\"string\"}\n",
        "top_p_value=\"0.9\"#@param{type:\"string\"}\n",
        "repeat_penalty_value=\"1.2\"#@param{type:\"string\"}\n",
        "top_k_value=\"150\"#@param{type:\"string\"}\n",
        "\n",
        "response=lcpp_llm(prompt=prompt_template,\n",
        "                  max_tokens=int(max_tokens_value), # Increased to allow for longer story segments\n",
        "                  temperature=int(temperature_value), # Increased to make the output more creative\n",
        "                  top_p=int(top_p_value), # Slightly reduced to balance diversity and quality\n",
        "                  repeat_penalty=int(repeat_penalty_value), # Increased to discourage repetition\n",
        "                  top_k=int(top_k_value), # Increased to consider more options at each step\n",
        "                  echo=False) # Set to False to not include the input in the response\n",
        "\n",
        "output.clear()\n",
        "\n",
        "text = response[\"choices\"][0][\"text\"]\n",
        "display(text)"
      ],
      "metadata": {
        "cellView": "form",
        "id": "Z6tFig5MhCi0"
      },
      "execution_count": null,
      "outputs": []
    }
  ]
}